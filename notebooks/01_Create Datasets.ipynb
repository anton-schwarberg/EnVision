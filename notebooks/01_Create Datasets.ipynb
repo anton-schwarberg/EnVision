{
 "cells": [
  {
   "cell_type": "code",
   "execution_count": 2,
   "id": "555fc830432ef438",
   "metadata": {
    "ExecuteTime": {
     "end_time": "2024-05-08T12:05:43.048940Z",
     "start_time": "2024-05-08T12:05:43.045248Z"
    },
    "collapsed": false,
    "jupyter": {
     "outputs_hidden": false
    }
   },
   "outputs": [],
   "source": [
    "import numpy as np\n",
    "import pandas as pd"
   ]
  },
  {
   "cell_type": "markdown",
   "id": "a174cb5950a5ec0",
   "metadata": {},
   "source": [
    "## Dataset Creation of four groups (Random Noise, Yes, No, Considered but No)"
   ]
  },
  {
   "cell_type": "markdown",
   "id": "532e0050-dba2-4510-afa8-007bdf9d10c8",
   "metadata": {},
   "source": [
    "In this file, the first synthetic dataset is created. It contains three distinct homeowner groups, each reflecting a different behavior regarding energy consultations.\n",
    "\n",
    "The target variable is called booked_energy_consultation, which indicates whether a homeowner booked an energy consultation or not.\n",
    "- The “yes” group represents homeowners who booked a consultation.\n",
    "- The “no” group includes those who decided not to book one.\n",
    "- The “considered_but_no” group consists of homeowners who initially showed interest but did not follow through.\n",
    "\n",
    "Additionally, a random noise group was added to simulate real-world unpredictability and increase the dataset’s realism.\n",
    "Each group is first stored in a separate DataFrame. These are then combined into one final dataset and exported as an Excel file."
   ]
  },
  {
   "cell_type": "markdown",
   "id": "985cce18d702a3e0",
   "metadata": {},
   "source": [
    "### Creating Random Noise"
   ]
  },
  {
   "cell_type": "markdown",
   "id": "71f7e36a-2392-48fd-92b7-b2e7774951aa",
   "metadata": {},
   "source": [
    "In real-world datasets, not all data points follow clear or predictable patterns. To make our synthetic dataset more realistic, we introduced a group of randomly generated entries that do not reflect any of the predefined customer profiles. This random noise simulates real-life variability and uncertainty, which helps prevent the model from overfitting."
   ]
  },
  {
   "cell_type": "code",
   "execution_count": 3,
   "id": "30dd53da4beea30b",
   "metadata": {
    "ExecuteTime": {
     "end_time": "2024-05-08T12:05:43.098968Z",
     "start_time": "2024-05-08T12:05:43.090074Z"
    },
    "collapsed": false,
    "jupyter": {
     "outputs_hidden": false
    }
   },
   "outputs": [
    {
     "name": "stdout",
     "output_type": "stream",
     "text": [
      "   age  gender  household_size occupation_status  income house_type  \\\n",
      "0   52    Male               3        Unemployed    2047   Detached   \n",
      "1   37  Female               2     Self-employed   24300   Detached   \n",
      "2   56  Female               3          Employed   27700   Detached   \n",
      "3   78    Male               1           Retired    8611   Detached   \n",
      "4   34    Male               4     Self-employed   39700   Detached   \n",
      "\n",
      "   house_age  house_size location  energy_bill  ... knowledge_energy  \\\n",
      "0       2003         300    Rural          166  ...                4   \n",
      "1       1989         200    Rural          134  ...                3   \n",
      "2       1934         300    Urban          136  ...                2   \n",
      "3       1965          90    Rural          131  ...                3   \n",
      "4       2011         200    Rural          137  ...                3   \n",
      "\n",
      "   energy_awareness  attitude_energy_reduction  investment_willingness  \\\n",
      "0                 2                          2                       4   \n",
      "1                 2                          4                       4   \n",
      "2                 3                          4                       3   \n",
      "3                 1                          4                       4   \n",
      "4                 2                          2                       2   \n",
      "\n",
      "   belief_climate_change financial_awareness perceived_efficiency  \\\n",
      "0                    Yes                  No                    2   \n",
      "1                    Yes                  No                    4   \n",
      "2                    Yes                  No                    2   \n",
      "3                    Yes                 Yes                    3   \n",
      "4                    Yes                  No                    5   \n",
      "\n",
      "   environment_concern  previous_renovations  booked_energy_consultation  \n",
      "0                    4                     3                          No  \n",
      "1                    3                     3     Considered but not used  \n",
      "2                    4                     2                          No  \n",
      "3                    1                     3     Considered but not used  \n",
      "4                    5                     3                         Yes  \n",
      "\n",
      "[5 rows x 21 columns]\n"
     ]
    }
   ],
   "source": [
    "# Set seed for reproducibility\n",
    "np.random.seed(42)\n",
    "\n",
    "# Define the size of the dataset\n",
    "n = 1500\n",
    "\n",
    "# Create age variable with specified parameters\n",
    "age = np.clip(np.round(np.random.normal(40, 25, n)), 20, 99).astype(int)\n",
    "\n",
    "# Create gender variable with specified probabilities\n",
    "gender = np.random.choice(['Male', 'Female', 'Other', 'Prefer not to say'], size=n, p=[0.46, 0.46, 0.04, 0.04])\n",
    "\n",
    "# Create household_size variable with specified parameters\n",
    "household_size = np.clip(np.round(np.random.normal(3, 1, n)), 1, 10).astype(int)\n",
    "\n",
    "# Initially set occupation_status\n",
    "occupation_status = np.random.choice(['Employed', 'Self-employed', 'Unemployed'], size=n, p=[0.8, 0.16, 0.04])\n",
    "\n",
    "# Adjust occupation_status based on age\n",
    "occupation_status = np.where(age >= 67, 'Retired', occupation_status)\n",
    "\n",
    "# Create initial income variable with a general distribution\n",
    "income = np.clip(np.round(np.random.normal(53000, 19000, n), -2), 10000, 500000).astype(int)\n",
    "\n",
    "# Adjust income for 'Unemployed' and 'Retired'\n",
    "unemployed_or_retired = np.isin(occupation_status, ['Unemployed', 'Retired'])\n",
    "income[unemployed_or_retired] = np.clip(np.round(np.random.normal(5000, 2000, sum(unemployed_or_retired))), 0, 20000).astype(int)\n",
    "\n",
    "# Create house_type variable with specified probabilities\n",
    "house_type = np.random.choice(['Detached', 'Multi-family House'], size=n, p=[0.8, 0.2])\n",
    "\n",
    "# Create house_age variable with specified parameters\n",
    "house_age = np.clip(np.round(np.random.normal(1980, 35, n)), 1900, 2020).astype(int)\n",
    "\n",
    "# Create house_size with a broad range to allow correlation adjustments later\n",
    "house_size = np.clip(np.round(np.random.normal(150, 200, n), -2), 90, 3000).astype(int)\n",
    "\n",
    "# Create a positively correlated energy_bill based on house_size\n",
    "energy_bill = np.clip(np.round(house_size / 1500 * np.random.normal(123, 70, n) + 123), 90, 500).astype(int)\n",
    "\n",
    "# Create location variable with specified probabilities\n",
    "location = np.random.choice(['Urban', 'Rural'], size=n, p=[0.3, 0.7])\n",
    "\n",
    "# Create energy_source variable with specified probabilities\n",
    "energy_source = np.random.choice(['Non-renewable sources', 'Renewable sources'], size=n, p=[0.6, 0.4])\n",
    "\n",
    "# Create discrete rating variables for various categories\n",
    "knowledge_energy = np.clip(np.round(np.random.normal(3, 1.5, n)), 1, 5).astype(int)\n",
    "energy_awareness = np.clip(np.round(np.random.normal(3, 1.5, n)), 1, 5).astype(int)\n",
    "attitude_energy_reduction = np.clip(np.round(np.random.normal(3, 1.5, n)), 1, 5).astype(int)\n",
    "investment_willingness = np.clip(np.round(np.random.normal(3, 1.5, n)), 1, 5).astype(int)\n",
    "perceived_efficiency = np.clip(np.round(np.random.normal(3.5, 1.5, n)), 1, 5).astype(int)\n",
    "environment_concern = np.clip(np.round(np.random.normal(3, 1.5, n)), 1, 5).astype(int)\n",
    "\n",
    "# Create belief_climate_change variable with specified probabilities\n",
    "belief_climate_change = np.random.choice(['Yes', 'No'], size=n, p=[0.75, 0.25])\n",
    "\n",
    "# Create financial_awareness variable with specified probabilities\n",
    "financial_awareness = np.random.choice(['Yes', 'No'], size=n, p=[0.2, 0.8])\n",
    "\n",
    "# Create previous_renovations variable with specified parameters\n",
    "previous_renovations = np.clip(np.round(np.random.normal(2, 1, n)), 0, 10).astype(int)\n",
    "\n",
    "# Create booked_energy_consultation variable with specified probabilities\n",
    "booked_energy_consultation = np.random.choice(['Yes', 'Considered but not used', 'No'], size=n, p=[(1/3), (1/3), (1/3)])\n",
    "\n",
    "# Compile all variables into a DataFrame\n",
    "df = pd.DataFrame({\n",
    "    'age': age,\n",
    "    'gender': gender,\n",
    "    'household_size': household_size,\n",
    "    'occupation_status': occupation_status,\n",
    "    'income': income,\n",
    "    'house_type': house_type,\n",
    "    'house_age': house_age,\n",
    "    'house_size': house_size,\n",
    "    'location': location,\n",
    "    'energy_bill': energy_bill,\n",
    "    'energy_source': energy_source,\n",
    "    'knowledge_energy': knowledge_energy,\n",
    "    'energy_awareness': energy_awareness,\n",
    "    'attitude_energy_reduction': attitude_energy_reduction,\n",
    "    'investment_willingness': investment_willingness,\n",
    "    'belief_climate_change': belief_climate_change,\n",
    "    'financial_awareness': financial_awareness,\n",
    "    'perceived_efficiency': perceived_efficiency,\n",
    "    'environment_concern': environment_concern,\n",
    "    'previous_renovations': previous_renovations,\n",
    "    'booked_energy_consultation': booked_energy_consultation\n",
    "})\n",
    "\n",
    "# Display the first few rows of the dataset and check\n",
    "print(df.head())\n",
    "\n",
    "df_random = df.copy()"
   ]
  },
  {
   "cell_type": "markdown",
   "id": "b4a3d05424027687",
   "metadata": {},
   "source": [
    "### Group 1: Yes"
   ]
  },
  {
   "cell_type": "markdown",
   "id": "4bd25f5a-bdf4-4027-bce3-8e5c615ac425",
   "metadata": {},
   "source": [
    "This group represents homeowners who decided to book an energy consultation. Their profiles were designed based on common patterns observed in our interviews, such as high environmental awareness, high income, and recent renovation activity.These are traits typically associated with engaged and proactive customers."
   ]
  },
  {
   "cell_type": "code",
   "execution_count": 4,
   "id": "c32312092771f992",
   "metadata": {
    "ExecuteTime": {
     "end_time": "2024-05-08T12:05:43.106839Z",
     "start_time": "2024-05-08T12:05:43.101292Z"
    },
    "collapsed": false,
    "jupyter": {
     "outputs_hidden": false
    }
   },
   "outputs": [],
   "source": [
    "# Set seed for reproducibility\n",
    "np.random.seed(42)\n",
    "\n",
    "# Define the size of the target dataset\n",
    "n_target = 2000  # adjust this as needed for your overall dataset\n",
    "\n",
    "# Generate data for the target population\n",
    "age_target = np.random.normal((50+61)/2, 3, n_target).astype(int)\n",
    "gender_target = np.array(['Male'] * n_target)\n",
    "household_size_target = np.array([2] * n_target)\n",
    "occupation_status_target = np.array(['Employed'] * n_target)\n",
    "income_target = np.random.normal(80000, 6000, n_target).astype(int)\n",
    "house_type_target = np.random.choice(['Detached', 'Multi-family House'], size=n_target)  # Assuming house type is not important\n",
    "house_age_target = np.random.normal((1950 + 1980) / 2, 7, n_target).astype(int)\n",
    "house_size_target = np.random.normal((200 + 350) / 2, 15, n_target).astype(int)\n",
    "location_target = np.random.choice(['Urban', 'Rural'], size=n_target)\n",
    "energy_bill_target = np.random.normal((150 + 175) / 2, 15, n_target).astype(int)\n",
    "energy_source_target = np.array(['Non-renewable sources'] * n_target)\n",
    "knowledge_energy_target = np.array([2] * n_target)\n",
    "energy_awareness_target = np.array([2] * n_target)\n",
    "attitude_energy_reduction_target = np.random.randint(1, 6, n_target)\n",
    "investment_willingness_target = np.array([4] * n_target)\n",
    "belief_climate_change_target = np.array(['Yes'] * n_target)\n",
    "financial_awareness_target = np.random.choice(['Yes', 'No'], size=n_target, p=[0.2, 0.8])\n",
    "perceived_efficiency_target = np.array([2] * n_target)\n",
    "environment_concern_target = np.random.randint(1, 6, n_target)\n",
    "previous_renovations_target = np.random.randint(0, 11, n_target)\n",
    "booked_energy_consultation_target = np.array(['Yes'] * n_target)\n",
    "\n",
    "# Compile all variables into a DataFrame\n",
    "df_target_persona = pd.DataFrame({\n",
    "    'age': age_target,\n",
    "    'gender': gender_target,\n",
    "    'household_size': household_size_target,\n",
    "    'occupation_status': occupation_status_target,\n",
    "    'income': income_target,\n",
    "    'house_type': house_type_target,\n",
    "    'house_age': house_age_target,\n",
    "    'house_size': house_size_target,\n",
    "    'location': location_target,\n",
    "    'energy_bill': energy_bill_target,\n",
    "    'energy_source': energy_source_target,\n",
    "    'knowledge_energy': knowledge_energy_target,\n",
    "    'energy_awareness': energy_awareness_target,\n",
    "    'attitude_energy_reduction': attitude_energy_reduction_target,\n",
    "    'investment_willingness': investment_willingness_target,\n",
    "    'belief_climate_change': belief_climate_change_target,\n",
    "    'financial_awareness': financial_awareness_target,\n",
    "    'perceived_efficiency': perceived_efficiency_target,\n",
    "    'environment_concern': environment_concern_target,\n",
    "    'previous_renovations': previous_renovations_target,\n",
    "    'booked_energy_consultation': booked_energy_consultation_target\n",
    "})\n",
    "\n",
    "df_yes = df_target_persona.copy()"
   ]
  },
  {
   "cell_type": "markdown",
   "id": "32ad40513dac2470",
   "metadata": {},
   "source": [
    "### Group: No (Did not book consultation)"
   ]
  },
  {
   "cell_type": "markdown",
   "id": "16cb2cb6-ac41-4d6a-8bb8-6d76dfb42925",
   "metadata": {},
   "source": [
    "This group includes homeowners who chose not to book an energy consultation. Their profiles reflect lower environmental awareness, limited knowledge of subsidies, or financial constraints—factors that, according to our interviews, commonly discourage engagement with energy consulting services."
   ]
  },
  {
   "cell_type": "code",
   "execution_count": 5,
   "id": "5af79c68de5629da",
   "metadata": {
    "ExecuteTime": {
     "end_time": "2024-05-08T12:05:43.124955Z",
     "start_time": "2024-05-08T12:05:43.106992Z"
    },
    "collapsed": false,
    "jupyter": {
     "outputs_hidden": false
    }
   },
   "outputs": [],
   "source": [
    "# Set seed for reproducibility\n",
    "np.random.seed(42)\n",
    "\n",
    "# Define the size of the target dataset\n",
    "n_target = 2000  # adjust this to your needs\n",
    "\n",
    "# Generate data for the target population\n",
    "age_target = np.round(np.random.normal(25, 4, n_target)).astype(int)\n",
    "household_size_target = np.ones(n_target)\n",
    "occupation_status_target = np.random.choice(['Employed', 'Unemployed'], size=n_target, p=[0.5, 0.5])\n",
    "income_target = np.clip(np.round(np.random.normal(25000, 5000, n_target)), 10000, 50000).astype(int)\n",
    "house_type_target = np.random.choice(['Detached', 'Multi-family House'], size=n_target, p=[0.8, 0.2])\n",
    "house_age_target = np.clip(np.round(np.random.normal((2010 + 2020) / 2, 7, n_target)), 2010, 2020).astype(int)\n",
    "house_size_target = np.clip(np.round(np.random.normal((100 + 120) / 2, 5, n_target)), 100, 120).astype(int)\n",
    "location_target = np.random.choice(['Urban', 'Rural'], size=n_target, p=[0.3, 0.7])\n",
    "energy_bill_target = np.clip(np.round(np.random.normal((90 + 120) / 2, 5, n_target)), 90, 120).astype(int)\n",
    "energy_source_target = np.array(['Renewable sources'] * n_target)\n",
    "knowledge_energy_target = np.array([4] * n_target)\n",
    "energy_awareness_target = np.array([4] * n_target)\n",
    "attitude_energy_reduction_target = np.array([2] * n_target)\n",
    "investment_willingness_target = np.array([1] * n_target)\n",
    "belief_climate_change_target = np.random.choice(['Yes', 'No'], size=n_target, p=[0.75, 0.25])\n",
    "financial_awareness_target = np.array(['No'] * n_target)\n",
    "perceived_efficiency_target = np.random.randint(1, 6, n_target)\n",
    "environment_concern_target = np.array([2] * n_target)\n",
    "previous_renovations_target = np.random.randint(0, 11, n_target)\n",
    "booked_energy_consultation_target = np.array(['No'] * n_target)\n",
    "\n",
    "# Compile all variables into a DataFrame\n",
    "df_target = pd.DataFrame({\n",
    "    'age': age_target,\n",
    "    'gender': np.random.choice(['Male', 'Female', 'Other', 'Prefer not to say'], size=n_target, p=[0.46, 0.46, 0.04, 0.04]),\n",
    "    'household_size': household_size_target,\n",
    "    'occupation_status': occupation_status_target,\n",
    "    'income': income_target,\n",
    "    'house_type': house_type_target,\n",
    "    'house_age': house_age_target,\n",
    "    'house_size': house_size_target,\n",
    "    'location': location_target,\n",
    "    'energy_bill': energy_bill_target,\n",
    "    'energy_source': energy_source_target,\n",
    "    'knowledge_energy': knowledge_energy_target,\n",
    "    'energy_awareness': energy_awareness_target,\n",
    "    'attitude_energy_reduction': attitude_energy_reduction_target,\n",
    "    'investment_willingness': investment_willingness_target,\n",
    "    'belief_climate_change': belief_climate_change_target,\n",
    "    'financial_awareness': financial_awareness_target,\n",
    "    'perceived_efficiency': perceived_efficiency_target,\n",
    "    'environment_concern': environment_concern_target,\n",
    "    'previous_renovations': previous_renovations_target,\n",
    "    'booked_energy_consultation': booked_energy_consultation_target\n",
    "})\n",
    "\n",
    "df_no = df_target.copy()"
   ]
  },
  {
   "cell_type": "markdown",
   "id": "af81116a8cba7977",
   "metadata": {},
   "source": [
    "### Group: Considered but not used"
   ]
  },
  {
   "cell_type": "markdown",
   "id": "35416801-815d-4973-aea1-86f8bfef14c1",
   "metadata": {},
   "source": [
    "This group includes homeowners who expressed interest in an energy consultation but ultimately decided against it. They tend to be informed and environmentally conscious, often living in rural areas with moderate income and good awareness of energy issues. However, their lower willingness to invest and uncertainty about the actual efficiency gains may have prevented them from following through."
   ]
  },
  {
   "cell_type": "code",
   "execution_count": 7,
   "id": "745db0b01be84472",
   "metadata": {
    "ExecuteTime": {
     "end_time": "2024-05-08T12:05:43.130757Z",
     "start_time": "2024-05-08T12:05:43.120351Z"
    },
    "collapsed": false,
    "jupyter": {
     "outputs_hidden": false
    }
   },
   "outputs": [],
   "source": [
    "# Set seed for reproducibility\n",
    "np.random.seed(42)\n",
    "\n",
    "n_target = 2000\n",
    "\n",
    "# Generate data for the target population\n",
    "age_target = np.random.normal((35 + 45) / 2, 3, n_target).astype(int)\n",
    "gender_target = np.array(['Female'] * n_target)\n",
    "household_size_target = np.array([3] * n_target)\n",
    "occupation_status_target = np.random.choice(['Employed', 'Self-employed'], size=n_target, p=[0.5, 0.5])\n",
    "income_target = np.clip(np.round(np.random.normal(50000, 7000, n_target)), 10000, 500000).astype(int)\n",
    "house_type_target = np.array(['Multi-family House'] * n_target)\n",
    "house_age_target = np.clip(np.random.normal((1985 + 2003) / 2, 7, n_target), 1975, 2005).astype(int)\n",
    "house_size_target = np.clip(np.random.normal((120 + 200) / 2, 10, n_target), 120, 200).astype(int)\n",
    "location_target = np.array(['Rural'] * n_target)\n",
    "energy_bill_target = np.clip(np.random.normal((120 + 145) / 2, 5, n_target), 120, 145).astype(int)\n",
    "energy_source_target = np.array(['Non-renewable sources'] * n_target)\n",
    "knowledge_energy_target = np.array([4] * n_target)\n",
    "energy_awareness_target = np.array([4] * n_target)\n",
    "attitude_energy_reduction_target = np.array([4] * n_target)\n",
    "investment_willingness_target = np.array([2] * n_target)\n",
    "belief_climate_change_target = np.array(['Yes'] * n_target)\n",
    "financial_awareness_target = np.random.choice(['Yes', 'No'], n_target)\n",
    "perceived_efficiency_target = np.random.randint(1, 6, n_target)\n",
    "environment_concern_target = np.array([4] * n_target)\n",
    "previous_renovations_target = np.clip(np.random.normal(5, 1, n_target), 4, 6).astype(int)\n",
    "booked_energy_consultation_target = np.array(['Considered but not used'] * n_target)\n",
    "\n",
    "# Compile all variables into a DataFrame\n",
    "df_target_persona = pd.DataFrame({\n",
    "    'age': age_target,\n",
    "    'gender': gender_target,\n",
    "    'household_size': household_size_target,\n",
    "    'occupation_status': occupation_status_target,\n",
    "    'income': income_target,\n",
    "    'house_type': house_type_target,\n",
    "    'house_age': house_age_target,\n",
    "    'house_size': house_size_target,\n",
    "    'location': location_target,\n",
    "    'energy_bill': energy_bill_target,\n",
    "    'energy_source': energy_source_target,\n",
    "    'knowledge_energy': knowledge_energy_target,\n",
    "    'energy_awareness': energy_awareness_target,\n",
    "    'attitude_energy_reduction': attitude_energy_reduction_target,\n",
    "    'investment_willingness': investment_willingness_target,\n",
    "    'belief_climate_change': belief_climate_change_target,\n",
    "    'financial_awareness': financial_awareness_target,\n",
    "    'perceived_efficiency': perceived_efficiency_target,\n",
    "    'environment_concern': environment_concern_target,\n",
    "    'previous_renovations': previous_renovations_target,\n",
    "    'booked_energy_consultation': booked_energy_consultation_target\n",
    "})\n",
    "\n",
    "# Corrected variable name to not invoke as a function\n",
    "df_considered = df_target.copy()"
   ]
  },
  {
   "cell_type": "markdown",
   "id": "eef2e0a253f8225c",
   "metadata": {},
   "source": [
    "## Combining the three datasets"
   ]
  },
  {
   "cell_type": "markdown",
   "id": "c60e6a71-83a6-465c-8301-fe024b5dcd2f",
   "metadata": {},
   "source": [
    "After generating all customer groups (booked, not booked, considered but not used, and random noise), I concatenated them into a single dataset. To ensure a realistic and unbiased distribution, I then shuffled the rows and reset the index."
   ]
  },
  {
   "cell_type": "code",
   "execution_count": 8,
   "id": "36d5aa7c6871c32b",
   "metadata": {
    "ExecuteTime": {
     "end_time": "2024-05-08T12:06:14.999544Z",
     "start_time": "2024-05-08T12:06:13.914056Z"
    },
    "collapsed": false,
    "jupyter": {
     "outputs_hidden": false
    }
   },
   "outputs": [],
   "source": [
    "# Combine the DataFrames\n",
    "combined_df = pd.concat([df_random, df_yes, df_no, df_considered], ignore_index=True)\n",
    "combined_df = combined_df.sample(frac=1).reset_index(drop=True)\n",
    "\n",
    "# Save the combined DataFrame to an Excel file\n",
    "combined_df.to_excel('combined_data.xlsx', index=False)\n",
    "#print(\"Data combined successfully and saved to 'combined_data.xlsx'\")"
   ]
  }
 ],
 "metadata": {
  "kernelspec": {
   "display_name": "Python 3 (ipykernel)",
   "language": "python",
   "name": "python3"
  },
  "language_info": {
   "codemirror_mode": {
    "name": "ipython",
    "version": 3
   },
   "file_extension": ".py",
   "mimetype": "text/x-python",
   "name": "python",
   "nbconvert_exporter": "python",
   "pygments_lexer": "ipython3",
   "version": "3.11.5"
  }
 },
 "nbformat": 4,
 "nbformat_minor": 5
}
