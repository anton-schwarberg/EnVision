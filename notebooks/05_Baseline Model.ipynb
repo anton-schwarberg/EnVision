{
 "cells": [
  {
   "cell_type": "markdown",
   "id": "e828ff207ad1f17c",
   "metadata": {},
   "source": [
    "# Baseline Model"
   ]
  },
  {
   "cell_type": "markdown",
   "id": "2e153d06-ddc8-4629-a469-55737ffb4db3",
   "metadata": {},
   "source": [
    "This notebook establishes a simple baseline to compare the performance of more advanced models. The baseline model predicts the majority class (i.e., the most frequent outcome in the training data) and does not use any input features. This sets a minimum benchmark for classification accuracy — any meaningful model should outperform this baseline."
   ]
  },
  {
   "cell_type": "code",
   "execution_count": 1,
   "id": "f86e19cae8dd7d2d",
   "metadata": {
    "ExecuteTime": {
     "end_time": "2024-05-10T15:31:21.567048Z",
     "start_time": "2024-05-10T15:31:21.446409Z"
    },
    "collapsed": false,
    "jupyter": {
     "outputs_hidden": false
    },
    "tags": []
   },
   "outputs": [],
   "source": [
    "from sklearn.dummy import DummyClassifier\n",
    "from sklearn.model_selection import train_test_split\n",
    "from sklearn.metrics import accuracy_score, classification_report\n",
    "from sklearn.preprocessing import OneHotEncoder, MinMaxScaler\n",
    "import numpy as np\n",
    "import pandas as pd"
   ]
  },
  {
   "cell_type": "code",
   "execution_count": 2,
   "id": "911335638fc3d7e4",
   "metadata": {
    "ExecuteTime": {
     "end_time": "2024-05-10T15:31:23.193223Z",
     "start_time": "2024-05-10T15:31:22.329054Z"
    },
    "collapsed": false,
    "jupyter": {
     "outputs_hidden": false
    },
    "tags": []
   },
   "outputs": [],
   "source": [
    "df = pd.read_excel('combined_data_binary.xlsx', index_col=0)"
   ]
  },
  {
   "cell_type": "code",
   "execution_count": 3,
   "id": "8b5462cba7808d87",
   "metadata": {
    "ExecuteTime": {
     "end_time": "2024-05-10T15:31:35.629030Z",
     "start_time": "2024-05-10T15:31:35.607154Z"
    },
    "collapsed": false,
    "jupyter": {
     "outputs_hidden": false
    },
    "tags": []
   },
   "outputs": [],
   "source": [
    "# Separate features and target variable\n",
    "X = df.drop('booked_energy_consultation', axis=1)\n",
    "y = df['booked_energy_consultation']\n",
    "\n",
    "# Identify numerical and categorical columns\n",
    "numerical_cols = X.select_dtypes(include=['int64', 'float64']).columns\n",
    "categorical_cols = X.select_dtypes(include=['object', 'category']).columns\n",
    "\n",
    "# One-hot encode the categorical variables\n",
    "encoder = OneHotEncoder(sparse_output=False)\n",
    "categorical_encoded = encoder.fit_transform(X[categorical_cols])\n",
    "categorical_encoded_df = pd.DataFrame(categorical_encoded, columns=encoder.get_feature_names_out(categorical_cols))\n",
    "\n",
    "X = pd.concat([X[numerical_cols].reset_index(drop=True), categorical_encoded_df.reset_index(drop=True)], axis=1)"
   ]
  },
  {
   "cell_type": "code",
   "execution_count": 4,
   "id": "1f97aef19003d2d",
   "metadata": {
    "ExecuteTime": {
     "end_time": "2024-05-10T15:31:37.796806Z",
     "start_time": "2024-05-10T15:31:37.788380Z"
    },
    "collapsed": false,
    "jupyter": {
     "outputs_hidden": false
    },
    "tags": []
   },
   "outputs": [],
   "source": [
    "# Split the data into training and test sets\n",
    "X_train, X_test, y_train, y_test = train_test_split(X, y, test_size=0.2, random_state=42)"
   ]
  },
  {
   "cell_type": "code",
   "execution_count": 5,
   "id": "5530e1e1520fce7d",
   "metadata": {
    "ExecuteTime": {
     "end_time": "2024-05-10T15:31:41.931383Z",
     "start_time": "2024-05-10T15:31:41.924Z"
    },
    "collapsed": false,
    "jupyter": {
     "outputs_hidden": false
    },
    "tags": []
   },
   "outputs": [],
   "source": [
    "# Feature Scaling\n",
    "scaler = MinMaxScaler()\n",
    "X_train_scaled = scaler.fit_transform(X_train)\n",
    "X_test_scaled = scaler.transform(X_test)"
   ]
  },
  {
   "cell_type": "code",
   "execution_count": 6,
   "id": "b27f0a48e9cf77bd",
   "metadata": {
    "ExecuteTime": {
     "end_time": "2024-05-10T15:31:43.384930Z",
     "start_time": "2024-05-10T15:31:43.380472Z"
    },
    "collapsed": false,
    "jupyter": {
     "outputs_hidden": false
    },
    "tags": []
   },
   "outputs": [],
   "source": [
    "constant_value = 1\n",
    "\n",
    "baseline_model = DummyClassifier(strategy='uniform', random_state=42)\n",
    "baseline_model.fit(X_train_scaled, y_train)\n",
    "baseline_predictions = baseline_model.predict(X_test_scaled)"
   ]
  },
  {
   "cell_type": "code",
   "execution_count": 7,
   "id": "d0bebf6eee9eb9bf",
   "metadata": {
    "ExecuteTime": {
     "end_time": "2024-05-10T15:31:44.204447Z",
     "start_time": "2024-05-10T15:31:44.186795Z"
    },
    "collapsed": false,
    "jupyter": {
     "outputs_hidden": false
    },
    "tags": []
   },
   "outputs": [
    {
     "name": "stdout",
     "output_type": "stream",
     "text": [
      "              precision    recall  f1-score   support\n",
      "\n",
      "       False       0.65      0.51      0.57       968\n",
      "        True       0.36      0.50      0.42       532\n",
      "\n",
      "    accuracy                           0.50      1500\n",
      "   macro avg       0.50      0.50      0.49      1500\n",
      "weighted avg       0.55      0.50      0.52      1500\n",
      "\n"
     ]
    }
   ],
   "source": [
    "print(classification_report(y_test, baseline_predictions, zero_division=1))"
   ]
  },
  {
   "cell_type": "markdown",
   "id": "61f9157d-53dd-444d-a4fd-284b12e53569",
   "metadata": {},
   "source": [
    "As expected, the baseline model performs at chance level, with an accuracy of 50% and low precision and recall for the positive class. This confirms the need for more advanced models to make good predictions."
   ]
  }
 ],
 "metadata": {
  "kernelspec": {
   "display_name": "Python 3 (ipykernel)",
   "language": "python",
   "name": "python3"
  },
  "language_info": {
   "codemirror_mode": {
    "name": "ipython",
    "version": 3
   },
   "file_extension": ".py",
   "mimetype": "text/x-python",
   "name": "python",
   "nbconvert_exporter": "python",
   "pygments_lexer": "ipython3",
   "version": "3.11.5"
  }
 },
 "nbformat": 4,
 "nbformat_minor": 5
}
