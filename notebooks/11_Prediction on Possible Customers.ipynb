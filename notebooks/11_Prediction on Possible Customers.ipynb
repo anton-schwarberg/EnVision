{
 "cells": [
  {
   "cell_type": "markdown",
   "id": "1c7c380220c40d5b",
   "metadata": {
    "tags": []
   },
   "source": [
    "# Using Prediction Model on Potential Customer Database"
   ]
  },
  {
   "cell_type": "markdown",
   "id": "79ca8c16-d191-469a-8dc1-3ea7e2161a70",
   "metadata": {
    "tags": []
   },
   "source": [
    "In this step, the trained random forest prediction model is applied to the new dataset containing potential customer leads. The goal is to identify which homeowners are most likely to book an energy consultation. By assigning a probability to each lead, the model helps prioritize outreach efforts and therefore save the energy consultants time and energy."
   ]
  },
  {
   "cell_type": "code",
   "execution_count": 18,
   "id": "c2940403caa9795f",
   "metadata": {
    "ExecuteTime": {
     "end_time": "2024-05-08T16:27:54.866678Z",
     "start_time": "2024-05-08T16:27:54.862211Z"
    },
    "collapsed": false,
    "jupyter": {
     "outputs_hidden": false
    },
    "tags": []
   },
   "outputs": [],
   "source": [
    "import pandas as pd\n",
    "import numpy as np\n",
    "import joblib\n",
    "from sklearn.preprocessing import OneHotEncoder"
   ]
  },
  {
   "cell_type": "code",
   "execution_count": 19,
   "id": "1058fb0b117ce104",
   "metadata": {
    "ExecuteTime": {
     "end_time": "2024-05-08T16:27:55.242788Z",
     "start_time": "2024-05-08T16:27:55.211747Z"
    },
    "collapsed": false,
    "jupyter": {
     "outputs_hidden": false
    },
    "tags": []
   },
   "outputs": [],
   "source": [
    "clf_loaded = joblib.load('random_forest_model.pkl') #loading the model"
   ]
  },
  {
   "cell_type": "code",
   "execution_count": 20,
   "id": "9ddb4ca87d80dfe3",
   "metadata": {
    "ExecuteTime": {
     "end_time": "2024-05-08T16:27:55.844954Z",
     "start_time": "2024-05-08T16:27:55.711072Z"
    },
    "collapsed": false,
    "jupyter": {
     "outputs_hidden": false
    },
    "tags": []
   },
   "outputs": [],
   "source": [
    "df_whole = pd.read_excel('Potential_Customers.xlsx') #loading the dataset"
   ]
  },
  {
   "cell_type": "code",
   "execution_count": 21,
   "id": "42362523fac9911e",
   "metadata": {
    "ExecuteTime": {
     "end_time": "2024-05-08T16:27:56.120103Z",
     "start_time": "2024-05-08T16:27:56.114781Z"
    },
    "collapsed": false,
    "jupyter": {
     "outputs_hidden": false
    },
    "tags": []
   },
   "outputs": [
    {
     "data": {
      "text/plain": [
       "(1086, 23)"
      ]
     },
     "execution_count": 21,
     "metadata": {},
     "output_type": "execute_result"
    }
   ],
   "source": [
    "df_whole.head()\n",
    "df_whole.shape"
   ]
  },
  {
   "cell_type": "code",
   "execution_count": 22,
   "id": "89f2076d5baa0483",
   "metadata": {
    "ExecuteTime": {
     "end_time": "2024-05-08T16:14:16.022207Z",
     "start_time": "2024-05-08T16:14:16.018967Z"
    },
    "collapsed": false,
    "jupyter": {
     "outputs_hidden": false
    },
    "tags": []
   },
   "outputs": [],
   "source": [
    "df_pred = df_whole.drop(columns=['name', 'email', 'phone_number'])"
   ]
  },
  {
   "cell_type": "markdown",
   "id": "ad316e79e0053199",
   "metadata": {},
   "source": [
    "## One-Hot Encoding the DF"
   ]
  },
  {
   "cell_type": "code",
   "execution_count": 23,
   "id": "e90bd4c5b4102460",
   "metadata": {
    "ExecuteTime": {
     "end_time": "2024-05-08T16:14:16.027043Z",
     "start_time": "2024-05-08T16:14:16.024786Z"
    },
    "collapsed": false,
    "jupyter": {
     "outputs_hidden": false
    },
    "tags": []
   },
   "outputs": [],
   "source": [
    "df_pred_new = pd.get_dummies(df_pred, columns=['gender', 'occupation_status', 'house_type', 'location', 'energy_source', 'belief_climate_change', 'financial_awareness'])"
   ]
  },
  {
   "cell_type": "code",
   "execution_count": 24,
   "id": "d06e5f95240fc274",
   "metadata": {
    "ExecuteTime": {
     "end_time": "2024-05-08T16:14:16.031197Z",
     "start_time": "2024-05-08T16:14:16.028578Z"
    },
    "collapsed": false,
    "jupyter": {
     "outputs_hidden": false
    },
    "tags": []
   },
   "outputs": [
    {
     "data": {
      "text/html": [
       "<div>\n",
       "<style scoped>\n",
       "    .dataframe tbody tr th:only-of-type {\n",
       "        vertical-align: middle;\n",
       "    }\n",
       "\n",
       "    .dataframe tbody tr th {\n",
       "        vertical-align: top;\n",
       "    }\n",
       "\n",
       "    .dataframe thead th {\n",
       "        text-align: right;\n",
       "    }\n",
       "</style>\n",
       "<table border=\"1\" class=\"dataframe\">\n",
       "  <thead>\n",
       "    <tr style=\"text-align: right;\">\n",
       "      <th></th>\n",
       "      <th>age</th>\n",
       "      <th>household_size</th>\n",
       "      <th>income</th>\n",
       "      <th>house_age</th>\n",
       "      <th>house_size</th>\n",
       "      <th>energy_bill</th>\n",
       "      <th>knowledge_energy</th>\n",
       "      <th>energy_awareness</th>\n",
       "      <th>attitude_energy_reduction</th>\n",
       "      <th>investment_willingness</th>\n",
       "      <th>...</th>\n",
       "      <th>house_type_Detached</th>\n",
       "      <th>house_type_Multi-family House</th>\n",
       "      <th>location_Rural</th>\n",
       "      <th>location_Urban</th>\n",
       "      <th>energy_source_Non-renewable sources</th>\n",
       "      <th>energy_source_Renewable sources</th>\n",
       "      <th>belief_climate_change_No</th>\n",
       "      <th>belief_climate_change_Yes</th>\n",
       "      <th>financial_awareness_No</th>\n",
       "      <th>financial_awareness_Yes</th>\n",
       "    </tr>\n",
       "  </thead>\n",
       "  <tbody>\n",
       "    <tr>\n",
       "      <th>0</th>\n",
       "      <td>20</td>\n",
       "      <td>3</td>\n",
       "      <td>91200</td>\n",
       "      <td>2019</td>\n",
       "      <td>200</td>\n",
       "      <td>141</td>\n",
       "      <td>3</td>\n",
       "      <td>5</td>\n",
       "      <td>2</td>\n",
       "      <td>2</td>\n",
       "      <td>...</td>\n",
       "      <td>True</td>\n",
       "      <td>False</td>\n",
       "      <td>True</td>\n",
       "      <td>False</td>\n",
       "      <td>True</td>\n",
       "      <td>False</td>\n",
       "      <td>False</td>\n",
       "      <td>True</td>\n",
       "      <td>False</td>\n",
       "      <td>True</td>\n",
       "    </tr>\n",
       "    <tr>\n",
       "      <th>1</th>\n",
       "      <td>23</td>\n",
       "      <td>4</td>\n",
       "      <td>59400</td>\n",
       "      <td>1950</td>\n",
       "      <td>200</td>\n",
       "      <td>129</td>\n",
       "      <td>4</td>\n",
       "      <td>1</td>\n",
       "      <td>1</td>\n",
       "      <td>2</td>\n",
       "      <td>...</td>\n",
       "      <td>True</td>\n",
       "      <td>False</td>\n",
       "      <td>True</td>\n",
       "      <td>False</td>\n",
       "      <td>True</td>\n",
       "      <td>False</td>\n",
       "      <td>True</td>\n",
       "      <td>False</td>\n",
       "      <td>False</td>\n",
       "      <td>True</td>\n",
       "    </tr>\n",
       "    <tr>\n",
       "      <th>2</th>\n",
       "      <td>44</td>\n",
       "      <td>3</td>\n",
       "      <td>40800</td>\n",
       "      <td>1952</td>\n",
       "      <td>200</td>\n",
       "      <td>141</td>\n",
       "      <td>5</td>\n",
       "      <td>2</td>\n",
       "      <td>1</td>\n",
       "      <td>4</td>\n",
       "      <td>...</td>\n",
       "      <td>True</td>\n",
       "      <td>False</td>\n",
       "      <td>True</td>\n",
       "      <td>False</td>\n",
       "      <td>False</td>\n",
       "      <td>True</td>\n",
       "      <td>False</td>\n",
       "      <td>True</td>\n",
       "      <td>False</td>\n",
       "      <td>True</td>\n",
       "    </tr>\n",
       "    <tr>\n",
       "      <th>3</th>\n",
       "      <td>64</td>\n",
       "      <td>1</td>\n",
       "      <td>84600</td>\n",
       "      <td>1964</td>\n",
       "      <td>100</td>\n",
       "      <td>126</td>\n",
       "      <td>2</td>\n",
       "      <td>1</td>\n",
       "      <td>4</td>\n",
       "      <td>2</td>\n",
       "      <td>...</td>\n",
       "      <td>True</td>\n",
       "      <td>False</td>\n",
       "      <td>False</td>\n",
       "      <td>True</td>\n",
       "      <td>False</td>\n",
       "      <td>True</td>\n",
       "      <td>False</td>\n",
       "      <td>True</td>\n",
       "      <td>True</td>\n",
       "      <td>False</td>\n",
       "    </tr>\n",
       "    <tr>\n",
       "      <th>4</th>\n",
       "      <td>69</td>\n",
       "      <td>3</td>\n",
       "      <td>1278</td>\n",
       "      <td>1909</td>\n",
       "      <td>90</td>\n",
       "      <td>133</td>\n",
       "      <td>5</td>\n",
       "      <td>2</td>\n",
       "      <td>3</td>\n",
       "      <td>3</td>\n",
       "      <td>...</td>\n",
       "      <td>False</td>\n",
       "      <td>True</td>\n",
       "      <td>True</td>\n",
       "      <td>False</td>\n",
       "      <td>True</td>\n",
       "      <td>False</td>\n",
       "      <td>True</td>\n",
       "      <td>False</td>\n",
       "      <td>False</td>\n",
       "      <td>True</td>\n",
       "    </tr>\n",
       "  </tbody>\n",
       "</table>\n",
       "<p>5 rows × 31 columns</p>\n",
       "</div>"
      ],
      "text/plain": [
       "   age  household_size  income  house_age  house_size  energy_bill  \\\n",
       "0   20               3   91200       2019         200          141   \n",
       "1   23               4   59400       1950         200          129   \n",
       "2   44               3   40800       1952         200          141   \n",
       "3   64               1   84600       1964         100          126   \n",
       "4   69               3    1278       1909          90          133   \n",
       "\n",
       "   knowledge_energy  energy_awareness  attitude_energy_reduction  \\\n",
       "0                 3                 5                          2   \n",
       "1                 4                 1                          1   \n",
       "2                 5                 2                          1   \n",
       "3                 2                 1                          4   \n",
       "4                 5                 2                          3   \n",
       "\n",
       "   investment_willingness  ...  house_type_Detached  \\\n",
       "0                       2  ...                 True   \n",
       "1                       2  ...                 True   \n",
       "2                       4  ...                 True   \n",
       "3                       2  ...                 True   \n",
       "4                       3  ...                False   \n",
       "\n",
       "   house_type_Multi-family House  location_Rural  location_Urban  \\\n",
       "0                          False            True           False   \n",
       "1                          False            True           False   \n",
       "2                          False            True           False   \n",
       "3                          False           False            True   \n",
       "4                           True            True           False   \n",
       "\n",
       "   energy_source_Non-renewable sources  energy_source_Renewable sources  \\\n",
       "0                                 True                            False   \n",
       "1                                 True                            False   \n",
       "2                                False                             True   \n",
       "3                                False                             True   \n",
       "4                                 True                            False   \n",
       "\n",
       "   belief_climate_change_No  belief_climate_change_Yes  \\\n",
       "0                     False                       True   \n",
       "1                      True                      False   \n",
       "2                     False                       True   \n",
       "3                     False                       True   \n",
       "4                      True                      False   \n",
       "\n",
       "   financial_awareness_No  financial_awareness_Yes  \n",
       "0                   False                     True  \n",
       "1                   False                     True  \n",
       "2                   False                     True  \n",
       "3                    True                    False  \n",
       "4                   False                     True  \n",
       "\n",
       "[5 rows x 31 columns]"
      ]
     },
     "execution_count": 24,
     "metadata": {},
     "output_type": "execute_result"
    }
   ],
   "source": [
    "df_pred_new.head()"
   ]
  },
  {
   "cell_type": "code",
   "execution_count": 25,
   "id": "5c3256777a00a098",
   "metadata": {
    "ExecuteTime": {
     "end_time": "2024-05-08T16:14:16.052975Z",
     "start_time": "2024-05-08T16:14:16.030878Z"
    },
    "collapsed": false,
    "jupyter": {
     "outputs_hidden": false
    },
    "tags": []
   },
   "outputs": [],
   "source": [
    "predictions = clf_loaded.predict(df_pred_new)"
   ]
  },
  {
   "cell_type": "code",
   "execution_count": 26,
   "id": "abb68d2a30370bce",
   "metadata": {
    "ExecuteTime": {
     "end_time": "2024-05-08T16:14:16.068979Z",
     "start_time": "2024-05-08T16:14:16.044816Z"
    },
    "collapsed": false,
    "jupyter": {
     "outputs_hidden": false
    },
    "tags": []
   },
   "outputs": [],
   "source": [
    "probabilities = clf_loaded.predict_proba(df_pred_new)[:, 1]"
   ]
  },
  {
   "cell_type": "code",
   "execution_count": 27,
   "id": "193004a385112e59",
   "metadata": {
    "ExecuteTime": {
     "end_time": "2024-05-08T16:14:16.069705Z",
     "start_time": "2024-05-08T16:14:16.061392Z"
    },
    "collapsed": false,
    "jupyter": {
     "outputs_hidden": false
    },
    "tags": []
   },
   "outputs": [
    {
     "data": {
      "text/html": [
       "<div>\n",
       "<style scoped>\n",
       "    .dataframe tbody tr th:only-of-type {\n",
       "        vertical-align: middle;\n",
       "    }\n",
       "\n",
       "    .dataframe tbody tr th {\n",
       "        vertical-align: top;\n",
       "    }\n",
       "\n",
       "    .dataframe thead th {\n",
       "        text-align: right;\n",
       "    }\n",
       "</style>\n",
       "<table border=\"1\" class=\"dataframe\">\n",
       "  <thead>\n",
       "    <tr style=\"text-align: right;\">\n",
       "      <th></th>\n",
       "      <th>age</th>\n",
       "      <th>household_size</th>\n",
       "      <th>income</th>\n",
       "      <th>house_age</th>\n",
       "      <th>house_size</th>\n",
       "      <th>energy_bill</th>\n",
       "      <th>knowledge_energy</th>\n",
       "      <th>energy_awareness</th>\n",
       "      <th>attitude_energy_reduction</th>\n",
       "      <th>investment_willingness</th>\n",
       "      <th>...</th>\n",
       "      <th>house_type_Detached</th>\n",
       "      <th>house_type_Multi-family House</th>\n",
       "      <th>location_Rural</th>\n",
       "      <th>location_Urban</th>\n",
       "      <th>energy_source_Non-renewable sources</th>\n",
       "      <th>energy_source_Renewable sources</th>\n",
       "      <th>belief_climate_change_No</th>\n",
       "      <th>belief_climate_change_Yes</th>\n",
       "      <th>financial_awareness_No</th>\n",
       "      <th>financial_awareness_Yes</th>\n",
       "    </tr>\n",
       "  </thead>\n",
       "  <tbody>\n",
       "    <tr>\n",
       "      <th>0</th>\n",
       "      <td>20</td>\n",
       "      <td>3</td>\n",
       "      <td>91200</td>\n",
       "      <td>2019</td>\n",
       "      <td>200</td>\n",
       "      <td>141</td>\n",
       "      <td>3</td>\n",
       "      <td>5</td>\n",
       "      <td>2</td>\n",
       "      <td>2</td>\n",
       "      <td>...</td>\n",
       "      <td>True</td>\n",
       "      <td>False</td>\n",
       "      <td>True</td>\n",
       "      <td>False</td>\n",
       "      <td>True</td>\n",
       "      <td>False</td>\n",
       "      <td>False</td>\n",
       "      <td>True</td>\n",
       "      <td>False</td>\n",
       "      <td>True</td>\n",
       "    </tr>\n",
       "    <tr>\n",
       "      <th>1</th>\n",
       "      <td>23</td>\n",
       "      <td>4</td>\n",
       "      <td>59400</td>\n",
       "      <td>1950</td>\n",
       "      <td>200</td>\n",
       "      <td>129</td>\n",
       "      <td>4</td>\n",
       "      <td>1</td>\n",
       "      <td>1</td>\n",
       "      <td>2</td>\n",
       "      <td>...</td>\n",
       "      <td>True</td>\n",
       "      <td>False</td>\n",
       "      <td>True</td>\n",
       "      <td>False</td>\n",
       "      <td>True</td>\n",
       "      <td>False</td>\n",
       "      <td>True</td>\n",
       "      <td>False</td>\n",
       "      <td>False</td>\n",
       "      <td>True</td>\n",
       "    </tr>\n",
       "    <tr>\n",
       "      <th>2</th>\n",
       "      <td>44</td>\n",
       "      <td>3</td>\n",
       "      <td>40800</td>\n",
       "      <td>1952</td>\n",
       "      <td>200</td>\n",
       "      <td>141</td>\n",
       "      <td>5</td>\n",
       "      <td>2</td>\n",
       "      <td>1</td>\n",
       "      <td>4</td>\n",
       "      <td>...</td>\n",
       "      <td>True</td>\n",
       "      <td>False</td>\n",
       "      <td>True</td>\n",
       "      <td>False</td>\n",
       "      <td>False</td>\n",
       "      <td>True</td>\n",
       "      <td>False</td>\n",
       "      <td>True</td>\n",
       "      <td>False</td>\n",
       "      <td>True</td>\n",
       "    </tr>\n",
       "    <tr>\n",
       "      <th>3</th>\n",
       "      <td>64</td>\n",
       "      <td>1</td>\n",
       "      <td>84600</td>\n",
       "      <td>1964</td>\n",
       "      <td>100</td>\n",
       "      <td>126</td>\n",
       "      <td>2</td>\n",
       "      <td>1</td>\n",
       "      <td>4</td>\n",
       "      <td>2</td>\n",
       "      <td>...</td>\n",
       "      <td>True</td>\n",
       "      <td>False</td>\n",
       "      <td>False</td>\n",
       "      <td>True</td>\n",
       "      <td>False</td>\n",
       "      <td>True</td>\n",
       "      <td>False</td>\n",
       "      <td>True</td>\n",
       "      <td>True</td>\n",
       "      <td>False</td>\n",
       "    </tr>\n",
       "    <tr>\n",
       "      <th>4</th>\n",
       "      <td>69</td>\n",
       "      <td>3</td>\n",
       "      <td>1278</td>\n",
       "      <td>1909</td>\n",
       "      <td>90</td>\n",
       "      <td>133</td>\n",
       "      <td>5</td>\n",
       "      <td>2</td>\n",
       "      <td>3</td>\n",
       "      <td>3</td>\n",
       "      <td>...</td>\n",
       "      <td>False</td>\n",
       "      <td>True</td>\n",
       "      <td>True</td>\n",
       "      <td>False</td>\n",
       "      <td>True</td>\n",
       "      <td>False</td>\n",
       "      <td>True</td>\n",
       "      <td>False</td>\n",
       "      <td>False</td>\n",
       "      <td>True</td>\n",
       "    </tr>\n",
       "  </tbody>\n",
       "</table>\n",
       "<p>5 rows × 31 columns</p>\n",
       "</div>"
      ],
      "text/plain": [
       "   age  household_size  income  house_age  house_size  energy_bill  \\\n",
       "0   20               3   91200       2019         200          141   \n",
       "1   23               4   59400       1950         200          129   \n",
       "2   44               3   40800       1952         200          141   \n",
       "3   64               1   84600       1964         100          126   \n",
       "4   69               3    1278       1909          90          133   \n",
       "\n",
       "   knowledge_energy  energy_awareness  attitude_energy_reduction  \\\n",
       "0                 3                 5                          2   \n",
       "1                 4                 1                          1   \n",
       "2                 5                 2                          1   \n",
       "3                 2                 1                          4   \n",
       "4                 5                 2                          3   \n",
       "\n",
       "   investment_willingness  ...  house_type_Detached  \\\n",
       "0                       2  ...                 True   \n",
       "1                       2  ...                 True   \n",
       "2                       4  ...                 True   \n",
       "3                       2  ...                 True   \n",
       "4                       3  ...                False   \n",
       "\n",
       "   house_type_Multi-family House  location_Rural  location_Urban  \\\n",
       "0                          False            True           False   \n",
       "1                          False            True           False   \n",
       "2                          False            True           False   \n",
       "3                          False           False            True   \n",
       "4                           True            True           False   \n",
       "\n",
       "   energy_source_Non-renewable sources  energy_source_Renewable sources  \\\n",
       "0                                 True                            False   \n",
       "1                                 True                            False   \n",
       "2                                False                             True   \n",
       "3                                False                             True   \n",
       "4                                 True                            False   \n",
       "\n",
       "   belief_climate_change_No  belief_climate_change_Yes  \\\n",
       "0                     False                       True   \n",
       "1                      True                      False   \n",
       "2                     False                       True   \n",
       "3                     False                       True   \n",
       "4                      True                      False   \n",
       "\n",
       "   financial_awareness_No  financial_awareness_Yes  \n",
       "0                   False                     True  \n",
       "1                   False                     True  \n",
       "2                   False                     True  \n",
       "3                    True                    False  \n",
       "4                   False                     True  \n",
       "\n",
       "[5 rows x 31 columns]"
      ]
     },
     "execution_count": 27,
     "metadata": {},
     "output_type": "execute_result"
    }
   ],
   "source": [
    "df_pred_new.head()"
   ]
  },
  {
   "cell_type": "code",
   "execution_count": 28,
   "id": "f1200470fe179188",
   "metadata": {
    "ExecuteTime": {
     "end_time": "2024-05-08T16:14:16.075705Z",
     "start_time": "2024-05-08T16:14:16.064465Z"
    },
    "collapsed": false,
    "jupyter": {
     "outputs_hidden": false
    },
    "tags": []
   },
   "outputs": [],
   "source": [
    "df_whole['prediction'] = predictions\n",
    "df_whole['probability'] = probabilities"
   ]
  },
  {
   "cell_type": "code",
   "execution_count": 29,
   "id": "a57cf63fe3ee2a35",
   "metadata": {
    "ExecuteTime": {
     "end_time": "2024-05-08T16:15:36.111547Z",
     "start_time": "2024-05-08T16:15:36.083031Z"
    },
    "collapsed": false,
    "jupyter": {
     "outputs_hidden": false
    },
    "tags": []
   },
   "outputs": [],
   "source": [
    "df_whole.head()\n",
    "df_whole.to_excel('Potential_Customers_List.xlsx')"
   ]
  },
  {
   "cell_type": "markdown",
   "id": "a3ab1abf-ded7-46ae-9eed-d7e63a8ca0cf",
   "metadata": {},
   "source": [
    "This list contains the predicted probability of each lead booking an energy consultation. You can now either define a threshold for classification or simply sort the list (e.g., from highest to lowest probability) and contact leads accordingly."
   ]
  },
  {
   "cell_type": "markdown",
   "id": "09a5b362-232a-41d4-9593-19380832ea79",
   "metadata": {},
   "source": [
    "### Alternatively"
   ]
  },
  {
   "cell_type": "markdown",
   "id": "f1479909-0455-4023-9284-9e028a37315a",
   "metadata": {},
   "source": [
    "Alternatively, a threshold can be applied directly in code to filter and export only the most promising leads. The choice depends on individual preferences — some may prioritize completeness (including more leads), while others may prefer precision (focusing only on the most likely cases)."
   ]
  },
  {
   "cell_type": "code",
   "execution_count": 30,
   "id": "f2790f1e1c5c8e8",
   "metadata": {
    "ExecuteTime": {
     "end_time": "2024-05-08T16:14:16.095106Z",
     "start_time": "2024-05-08T16:14:16.073635Z"
    },
    "collapsed": false,
    "jupyter": {
     "outputs_hidden": false
    },
    "tags": []
   },
   "outputs": [],
   "source": [
    "filtered_df = df_whole[(df_whole['prediction'] == True) & (df_whole['probability'] >=0.8)]\n",
    "filtered_df = df_whole[(df_whole['prediction'] == True)]\n",
    "# Print the filtered DataFrame"
   ]
  },
  {
   "cell_type": "code",
   "execution_count": 31,
   "id": "7dc502fa035c02da",
   "metadata": {
    "ExecuteTime": {
     "end_time": "2024-05-08T16:14:16.123264Z",
     "start_time": "2024-05-08T16:14:16.075626Z"
    },
    "collapsed": false,
    "jupyter": {
     "outputs_hidden": false
    },
    "tags": []
   },
   "outputs": [],
   "source": [
    "filtered_df.to_excel('Target_Customers_.xlsx', index=False)"
   ]
  }
 ],
 "metadata": {
  "kernelspec": {
   "display_name": "Python 3 (ipykernel)",
   "language": "python",
   "name": "python3"
  },
  "language_info": {
   "codemirror_mode": {
    "name": "ipython",
    "version": 3
   },
   "file_extension": ".py",
   "mimetype": "text/x-python",
   "name": "python",
   "nbconvert_exporter": "python",
   "pygments_lexer": "ipython3",
   "version": "3.11.5"
  }
 },
 "nbformat": 4,
 "nbformat_minor": 5
}
